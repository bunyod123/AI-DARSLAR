{
 "cells": [
  {
   "cell_type": "markdown",
   "id": "7a873528",
   "metadata": {},
   "source": [
    "# string method"
   ]
  },
  {
   "cell_type": "code",
   "execution_count": null,
   "id": "f325d8a6",
   "metadata": {},
   "outputs": [
    {
     "name": "stdout",
     "output_type": "stream",
     "text": [
      "-1\n"
     ]
    }
   ],
   "source": [
    "name = 'TurgunboevBunyodbeko'\n",
    "# print(name.rfind('o'))\n",
    "# print(name.isdigit())\n",
    "# print(name.isalpha())\n",
    "# print(name.count(' '))\n",
    "# print(name.find(' '))"
   ]
  },
  {
   "cell_type": "code",
   "execution_count": null,
   "id": "75706317",
   "metadata": {},
   "outputs": [
    {
     "name": "stdout",
     "output_type": "stream",
     "text": [
      "name is not cantain numbers\n"
     ]
    }
   ],
   "source": [
    "# name = input('Enter you name: ')\n",
    "# if len(name) > 12:\n",
    "#     print(f\"name must be less 12 character\")\n",
    "# # elif name.find(' ') != -1:\n",
    "# #     print('your name can not contain spaces')\n",
    "# elif not name.isalpha():\n",
    "#     print('name is not cantain numbers')\n",
    "# else:\n",
    "#     print(f\"welcome {name}\")    "
   ]
  },
  {
   "cell_type": "code",
   "execution_count": null,
   "id": "b14f09f3",
   "metadata": {},
   "outputs": [
    {
     "name": "stdout",
     "output_type": "stream",
     "text": [
      "8773\n",
      "3778-787-5465-4321\n"
     ]
    }
   ],
   "source": [
    "# credit_number = \"1234-5645-787-8773\"\n",
    "# print(credit_number[-4:])\n",
    "# print(credit_number[::-1])"
   ]
  },
  {
   "cell_type": "code",
   "execution_count": 49,
   "id": "e2d78650",
   "metadata": {},
   "outputs": [
    {
     "name": "stdout",
     "output_type": "stream",
     "text": [
      "14\n",
      "14\n"
     ]
    }
   ],
   "source": [
    "# email = input('Enter your email: ')\n",
    "email = 'bunyod12323232@dff@gmail.com'\n",
    "# index = email.find('@')\n",
    "# email_name = email[:index]\n",
    "# domain = email[index+1:]\n",
    "# print(email_name, ' ', domain)\n",
    "\n",
    "print(email.index('@'))\n",
    "print(email.find('@'))"
   ]
  },
  {
   "cell_type": "code",
   "execution_count": null,
   "id": "9dcd4039",
   "metadata": {},
   "outputs": [],
   "source": []
  },
  {
   "cell_type": "code",
   "execution_count": null,
   "id": "a42589cd",
   "metadata": {},
   "outputs": [],
   "source": []
  },
  {
   "cell_type": "code",
   "execution_count": null,
   "id": "20af3352",
   "metadata": {},
   "outputs": [],
   "source": []
  },
  {
   "cell_type": "code",
   "execution_count": null,
   "id": "faf9bd87",
   "metadata": {},
   "outputs": [],
   "source": []
  }
 ],
 "metadata": {
  "kernelspec": {
   "display_name": "base",
   "language": "python",
   "name": "python3"
  },
  "language_info": {
   "codemirror_mode": {
    "name": "ipython",
    "version": 3
   },
   "file_extension": ".py",
   "mimetype": "text/x-python",
   "name": "python",
   "nbconvert_exporter": "python",
   "pygments_lexer": "ipython3",
   "version": "3.13.5"
  }
 },
 "nbformat": 4,
 "nbformat_minor": 5
}
