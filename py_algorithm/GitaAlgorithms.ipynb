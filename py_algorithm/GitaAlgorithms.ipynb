{
 "cells": [
  {
   "cell_type": "code",
   "execution_count": null,
   "id": "59b05206",
   "metadata": {},
   "outputs": [
    {
     "name": "stdout",
     "output_type": "stream",
     "text": [
      "raqamlari yigindisi  6\n"
     ]
    }
   ],
   "source": [
    "# son = int(input('son kiriting: '))\n",
    "# raqamlar_yigindisi = 0\n",
    "# # nusxa_son = son\n",
    "# while son > 0:\n",
    "#     raqam = son % 10\n",
    "#     raqamlar_yigindisi += raqam\n",
    "#     son //= 10\n",
    "\n",
    "# print('raqamlari yigindisi ',raqamlar_yigindisi)"
   ]
  },
  {
   "cell_type": "code",
   "execution_count": null,
   "id": "d02ff1a3",
   "metadata": {},
   "outputs": [
    {
     "name": "stdout",
     "output_type": "stream",
     "text": [
      "2345123451\n"
     ]
    }
   ],
   "source": [
    "# a = 1234512345\n",
    "# # b = 23451 \n",
    "# b = str(a)[1:]\n",
    "# c = str(a)[0]\n",
    "# print(int(b),int(c),sep='')"
   ]
  },
  {
   "cell_type": "code",
   "execution_count": 113,
   "id": "6ae7b30b",
   "metadata": {},
   "outputs": [],
   "source": [
    "# a = 456\n",
    "# # javob 132\n",
    "# hundreds = a //100\n",
    "# tens = (a // 10) % 10\n",
    "# ones = a % 10\n",
    "# print(hundreds * 100 + ones * 10 + tens)"
   ]
  },
  {
   "cell_type": "code",
   "execution_count": 116,
   "id": "4357fe08",
   "metadata": {},
   "outputs": [
    {
     "name": "stdout",
     "output_type": "stream",
     "text": [
      "20 34\n"
     ]
    }
   ],
   "source": [
    "a = 1234\n",
    "minut = a // 60\n",
    "sekund = a % 60\n",
    "print(minut , sekund)"
   ]
  },
  {
   "cell_type": "code",
   "execution_count": 4,
   "id": "06db4537",
   "metadata": {},
   "outputs": [
    {
     "name": "stdout",
     "output_type": "stream",
     "text": [
      "Musbat sonlar soni: 9\n",
      "Manfiy sonlar soni: 5\n"
     ]
    }
   ],
   "source": [
    "# Uchta butun sonni o'qish\n",
    "# a, b, c = map(int, input(\"3 ta turlicha butun son kiriting: \").split())\n",
    "a = 5\n",
    "b = 10\n",
    "c = -6\n",
    "\n",
    "# Oralig'ning chegaralarini aniqlash\n",
    "low = min(a, b, c)\n",
    "high = max(a, b, c)\n",
    "\n",
    "# Hisoblagichlar\n",
    "positive_count = 0\n",
    "negative_count = 0\n",
    "\n",
    "# low va high oralig'ida (exclusive) aylanamiz\n",
    "for x in range(low + 1, high):\n",
    "    if x > 0:\n",
    "        positive_count += 1\n",
    "    elif x < 0:\n",
    "        negative_count += 1\n",
    "    # nol (0) esa na musbat, na manfiy, hisoblanmaydi\n",
    "\n",
    "# Natijani chiqarish\n",
    "print(f\"Musbat sonlar soni: {positive_count}\")\n",
    "print(f\"Manfiy sonlar soni: {negative_count}\")"
   ]
  }
 ],
 "metadata": {
  "kernelspec": {
   "display_name": "base",
   "language": "python",
   "name": "python3"
  },
  "language_info": {
   "codemirror_mode": {
    "name": "ipython",
    "version": 3
   },
   "file_extension": ".py",
   "mimetype": "text/x-python",
   "name": "python",
   "nbconvert_exporter": "python",
   "pygments_lexer": "ipython3",
   "version": "3.13.5"
  }
 },
 "nbformat": 4,
 "nbformat_minor": 5
}
