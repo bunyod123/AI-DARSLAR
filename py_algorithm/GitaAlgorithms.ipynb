{
 "cells": [
  {
   "cell_type": "code",
   "execution_count": null,
   "id": "59b05206",
   "metadata": {},
   "outputs": [
    {
     "name": "stdout",
     "output_type": "stream",
     "text": [
      "raqamlari yigindisi  6\n"
     ]
    }
   ],
   "source": [
    "# son = int(input('son kiriting: '))\n",
    "# raqamlar_yigindisi = 0\n",
    "# # nusxa_son = son\n",
    "# while son > 0:\n",
    "#     raqam = son % 10\n",
    "#     raqamlar_yigindisi += raqam\n",
    "#     son //= 10\n",
    "\n",
    "# print('raqamlari yigindisi ',raqamlar_yigindisi)"
   ]
  },
  {
   "cell_type": "code",
   "execution_count": null,
   "id": "d02ff1a3",
   "metadata": {},
   "outputs": [
    {
     "name": "stdout",
     "output_type": "stream",
     "text": [
      "2345123451\n"
     ]
    }
   ],
   "source": [
    "# a = 1234512345\n",
    "# # b = 23451 \n",
    "# b = str(a)[1:]\n",
    "# c = str(a)[0]\n",
    "# print(int(b),int(c),sep='')"
   ]
  },
  {
   "cell_type": "code",
   "execution_count": 113,
   "id": "6ae7b30b",
   "metadata": {},
   "outputs": [],
   "source": [
    "# a = 456\n",
    "# # javob 132\n",
    "# hundreds = a //100\n",
    "# tens = (a // 10) % 10\n",
    "# ones = a % 10\n",
    "# print(hundreds * 100 + ones * 10 + tens)"
   ]
  },
  {
   "cell_type": "code",
   "execution_count": null,
   "id": "06db4537",
   "metadata": {},
   "outputs": [],
   "source": [
    "# Uchta butun sonni o'qish\n",
    "# a, b, c = map(int, input(\"3 ta turlicha butun son kiriting: \").split())\n",
    "# a = 5\n",
    "# b = 10\n",
    "# c = -6\n",
    "\n",
    "# # Oralig'ning chegaralarini aniqlash\n",
    "# low = min(a, b, c)\n",
    "# high = max(a, b, c)\n",
    "\n",
    "# # Hisoblagichlar\n",
    "# positive_count = 0\n",
    "# negative_count = 0\n",
    "\n",
    "# # low va high oralig'ida (exclusive) aylanamiz\n",
    "# for x in range(low + 1, high):\n",
    "#     if x > 0:\n",
    "#         positive_count += 1\n",
    "#     elif x < 0:\n",
    "#         negative_count += 1\n",
    "#     # nol (0) esa na musbat, na manfiy, hisoblanmaydi\n",
    "\n",
    "# # Natijani chiqarish\n",
    "# print(f\"Musbat sonlar soni: {positive_count}\")\n",
    "# print(f\"Manfiy sonlar soni: {negative_count}\")"
   ]
  },
  {
   "cell_type": "code",
   "execution_count": null,
   "id": "39369e7b",
   "metadata": {},
   "outputs": [
    {
     "name": "stdout",
     "output_type": "stream",
     "text": [
      "5 9 -6 orasidagi sonlar musbat: 8 manfiy 6\n"
     ]
    }
   ],
   "source": [
    "# a = 5\n",
    "# b = 9\n",
    "# c = -6\n",
    "# min1 = min(a,b,c)\n",
    "# max1 = max(a,b,c)\n",
    "# manfi = 0\n",
    "# mustab = 0\n",
    "# for i in range(min1 +1, max1):\n",
    "#     if i > 0:\n",
    "#         mustab += 1\n",
    "#     else:\n",
    "#         manfi += 1\n",
    "# print(a,b,c,'orasidagi sonlar musbat:', mustab, 'manfiy', manfi)\n",
    "    "
   ]
  },
  {
   "cell_type": "code",
   "execution_count": null,
   "id": "73234212",
   "metadata": {},
   "outputs": [
    {
     "name": "stdout",
     "output_type": "stream",
     "text": [
      "11 91\n"
     ]
    }
   ],
   "source": [
    "# a = 11\n",
    "# b = -21\n",
    "# c = 91\n",
    "# min1 = min(a,b,c)\n",
    "# max1 = max(a,b,c)\n",
    "# for i in [a,b,c]:\n",
    "#     if (i < max1 and i > min1):\n",
    "#         print(i, max1)"
   ]
  },
  {
   "cell_type": "code",
   "execution_count": null,
   "id": "82b84273",
   "metadata": {},
   "outputs": [
    {
     "name": "stdout",
     "output_type": "stream",
     "text": [
      "5\n"
     ]
    }
   ],
   "source": [
    "# a = 2\n",
    "# b = 2\n",
    "# c = 5\n",
    "# if a == b:\n",
    "#     print(c)\n",
    "# elif (a ==c):\n",
    "#     print(b)\n",
    "# else:\n",
    "#     print(a)"
   ]
  },
  {
   "cell_type": "code",
   "execution_count": 4,
   "id": "ef6cb235",
   "metadata": {},
   "outputs": [
    {
     "data": {
      "text/plain": [
       "'it is great day'"
      ]
     },
     "execution_count": 4,
     "metadata": {},
     "output_type": "execute_result"
    }
   ],
   "source": [
    "def match_day(day):\n",
    "    match day:\n",
    "        case 1:\n",
    "            return 'it is 1- day'\n",
    "        case 2:\n",
    "            return 'it is 2- day'\n",
    "        case 3: \n",
    "            return 'it is 3 - day'\n",
    "        case 4:\n",
    "            return 'it is 4 - day'\n",
    "        case _:\n",
    "            return 'it is great day'\n",
    "match_day(533)"
   ]
  },
  {
   "cell_type": "code",
   "execution_count": 6,
   "id": "5449bdf0",
   "metadata": {},
   "outputs": [
    {
     "ename": "SyntaxError",
     "evalue": "invalid syntax (2902524414.py, line 3)",
     "output_type": "error",
     "traceback": [
      "\u001b[1;36m  Cell \u001b[1;32mIn[6], line 3\u001b[1;36m\u001b[0m\n\u001b[1;33m    case month_num == 1 | month_num == 2 | month_num == 12:\u001b[0m\n\u001b[1;37m                   ^\u001b[0m\n\u001b[1;31mSyntaxError\u001b[0m\u001b[1;31m:\u001b[0m invalid syntax\n"
     ]
    }
   ],
   "source": [
    "month_num = int(input('Enter month number: '))\n",
    "match month_num:\n",
    "    case month_num == 1 | month_num == 2 | month_num == 12:\n",
    "        return 'it is winter'\n",
    "    case month_num >= 3 | month_num <= 6:\n",
    "        return 'it is spring'\n",
    "\n"
   ]
  },
  {
   "cell_type": "code",
   "execution_count": 17,
   "id": "358aa6ef",
   "metadata": {},
   "outputs": [
    {
     "data": {
      "text/plain": [
       "'it is error'"
      ]
     },
     "execution_count": 17,
     "metadata": {},
     "output_type": "execute_result"
    }
   ],
   "source": [
    "def fasl (day):\n",
    "    match day:\n",
    "        case 1 | 2 | 12:\n",
    "            return 'it is winter'\n",
    "        case 3 | 4 | 5:\n",
    "            return 'it is spring'\n",
    "        case 6 | 7 | 8:\n",
    "            return 'it is yoz'\n",
    "        case 9 | 10 | 11:\n",
    "            return 'it is automn'\n",
    "        case _:\n",
    "            return 'it is error'\n",
    "fasl(13)"
   ]
  },
  {
   "cell_type": "code",
   "execution_count": null,
   "id": "145d47d4",
   "metadata": {},
   "outputs": [],
   "source": []
  },
  {
   "cell_type": "code",
   "execution_count": null,
   "id": "bd6de8dd",
   "metadata": {},
   "outputs": [],
   "source": []
  },
  {
   "cell_type": "code",
   "execution_count": null,
   "id": "a6870956",
   "metadata": {},
   "outputs": [],
   "source": []
  },
  {
   "cell_type": "code",
   "execution_count": null,
   "id": "5e468f01",
   "metadata": {},
   "outputs": [],
   "source": []
  }
 ],
 "metadata": {
  "kernelspec": {
   "display_name": "base",
   "language": "python",
   "name": "python3"
  },
  "language_info": {
   "codemirror_mode": {
    "name": "ipython",
    "version": 3
   },
   "file_extension": ".py",
   "mimetype": "text/x-python",
   "name": "python",
   "nbconvert_exporter": "python",
   "pygments_lexer": "ipython3",
   "version": "3.13.5"
  }
 },
 "nbformat": 4,
 "nbformat_minor": 5
}
