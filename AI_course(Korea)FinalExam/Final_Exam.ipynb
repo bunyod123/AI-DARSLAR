{
 "cells": [
  {
   "cell_type": "code",
   "execution_count": 1,
   "id": "d956f656",
   "metadata": {},
   "outputs": [],
   "source": [
    "import pandas as pd"
   ]
  },
  {
   "cell_type": "code",
   "execution_count": 13,
   "id": "9ca3e05c",
   "metadata": {},
   "outputs": [],
   "source": [
    "df = pd.read_csv(r\"C:\\Users\\bunyo\\OneDrive\\Desktop\\git_dataset\\Indian_Kids_Screen_Time.csv\")"
   ]
  },
  {
   "cell_type": "code",
   "execution_count": 4,
   "id": "2e778dd3",
   "metadata": {},
   "outputs": [
    {
     "name": "stdout",
     "output_type": "stream",
     "text": [
      "<class 'pandas.core.frame.DataFrame'>\n",
      "RangeIndex: 9712 entries, 0 to 9711\n",
      "Data columns (total 8 columns):\n",
      " #   Column                             Non-Null Count  Dtype  \n",
      "---  ------                             --------------  -----  \n",
      " 0   Age                                9712 non-null   int64  \n",
      " 1   Gender                             9712 non-null   object \n",
      " 2   Avg_Daily_Screen_Time_hr           9712 non-null   float64\n",
      " 3   Primary_Device                     9712 non-null   object \n",
      " 4   Exceeded_Recommended_Limit         9712 non-null   bool   \n",
      " 5   Educational_to_Recreational_Ratio  9712 non-null   float64\n",
      " 6   Health_Impacts                     6494 non-null   object \n",
      " 7   Urban_or_Rural                     9712 non-null   object \n",
      "dtypes: bool(1), float64(2), int64(1), object(4)\n",
      "memory usage: 540.7+ KB\n"
     ]
    }
   ],
   "source": [
    "df.info()"
   ]
  },
  {
   "cell_type": "code",
   "execution_count": 5,
   "id": "4451ea72",
   "metadata": {},
   "outputs": [
    {
     "data": {
      "text/html": [
       "<div>\n",
       "<style scoped>\n",
       "    .dataframe tbody tr th:only-of-type {\n",
       "        vertical-align: middle;\n",
       "    }\n",
       "\n",
       "    .dataframe tbody tr th {\n",
       "        vertical-align: top;\n",
       "    }\n",
       "\n",
       "    .dataframe thead th {\n",
       "        text-align: right;\n",
       "    }\n",
       "</style>\n",
       "<table border=\"1\" class=\"dataframe\">\n",
       "  <thead>\n",
       "    <tr style=\"text-align: right;\">\n",
       "      <th></th>\n",
       "      <th>Age</th>\n",
       "      <th>Gender</th>\n",
       "      <th>Avg_Daily_Screen_Time_hr</th>\n",
       "      <th>Primary_Device</th>\n",
       "      <th>Exceeded_Recommended_Limit</th>\n",
       "      <th>Educational_to_Recreational_Ratio</th>\n",
       "      <th>Health_Impacts</th>\n",
       "      <th>Urban_or_Rural</th>\n",
       "    </tr>\n",
       "  </thead>\n",
       "  <tbody>\n",
       "    <tr>\n",
       "      <th>0</th>\n",
       "      <td>14</td>\n",
       "      <td>Male</td>\n",
       "      <td>3.99</td>\n",
       "      <td>Smartphone</td>\n",
       "      <td>True</td>\n",
       "      <td>0.42</td>\n",
       "      <td>Poor Sleep, Eye Strain</td>\n",
       "      <td>Urban</td>\n",
       "    </tr>\n",
       "    <tr>\n",
       "      <th>1</th>\n",
       "      <td>11</td>\n",
       "      <td>Female</td>\n",
       "      <td>4.61</td>\n",
       "      <td>Laptop</td>\n",
       "      <td>True</td>\n",
       "      <td>0.30</td>\n",
       "      <td>Poor Sleep</td>\n",
       "      <td>Urban</td>\n",
       "    </tr>\n",
       "    <tr>\n",
       "      <th>2</th>\n",
       "      <td>18</td>\n",
       "      <td>Female</td>\n",
       "      <td>3.73</td>\n",
       "      <td>TV</td>\n",
       "      <td>True</td>\n",
       "      <td>0.32</td>\n",
       "      <td>Poor Sleep</td>\n",
       "      <td>Urban</td>\n",
       "    </tr>\n",
       "    <tr>\n",
       "      <th>3</th>\n",
       "      <td>15</td>\n",
       "      <td>Female</td>\n",
       "      <td>1.21</td>\n",
       "      <td>Laptop</td>\n",
       "      <td>False</td>\n",
       "      <td>0.39</td>\n",
       "      <td>NaN</td>\n",
       "      <td>Urban</td>\n",
       "    </tr>\n",
       "    <tr>\n",
       "      <th>4</th>\n",
       "      <td>12</td>\n",
       "      <td>Female</td>\n",
       "      <td>5.89</td>\n",
       "      <td>Smartphone</td>\n",
       "      <td>True</td>\n",
       "      <td>0.49</td>\n",
       "      <td>Poor Sleep, Anxiety</td>\n",
       "      <td>Urban</td>\n",
       "    </tr>\n",
       "  </tbody>\n",
       "</table>\n",
       "</div>"
      ],
      "text/plain": [
       "   Age  Gender  Avg_Daily_Screen_Time_hr Primary_Device  \\\n",
       "0   14    Male                      3.99     Smartphone   \n",
       "1   11  Female                      4.61         Laptop   \n",
       "2   18  Female                      3.73             TV   \n",
       "3   15  Female                      1.21         Laptop   \n",
       "4   12  Female                      5.89     Smartphone   \n",
       "\n",
       "   Exceeded_Recommended_Limit  Educational_to_Recreational_Ratio  \\\n",
       "0                        True                               0.42   \n",
       "1                        True                               0.30   \n",
       "2                        True                               0.32   \n",
       "3                       False                               0.39   \n",
       "4                        True                               0.49   \n",
       "\n",
       "           Health_Impacts Urban_or_Rural  \n",
       "0  Poor Sleep, Eye Strain          Urban  \n",
       "1              Poor Sleep          Urban  \n",
       "2              Poor Sleep          Urban  \n",
       "3                     NaN          Urban  \n",
       "4     Poor Sleep, Anxiety          Urban  "
      ]
     },
     "execution_count": 5,
     "metadata": {},
     "output_type": "execute_result"
    }
   ],
   "source": [
    "df.head()"
   ]
  },
  {
   "cell_type": "markdown",
   "id": "61356bae",
   "metadata": {},
   "source": [
    "# Nan qiymatlarni toldirish"
   ]
  },
  {
   "cell_type": "code",
   "execution_count": null,
   "id": "02f04817",
   "metadata": {},
   "outputs": [],
   "source": [
    "# for loop orqli nan object qiymatlarni toldirish\n",
    "\n",
    "for cols in df.select_dtypes(include=['object']):    \n",
    "    df[cols].fillna(df[cols].mode()[0], inplace=True)\n"
   ]
  },
  {
   "cell_type": "code",
   "execution_count": null,
   "id": "c42d89a2",
   "metadata": {},
   "outputs": [],
   "source": [
    "# int va float nan qiymatlarni toldirish\n",
    "      \n",
    "for num_cols in df.select_dtypes(include=['int64', 'float64']):\n",
    "    df[num_cols].fillna(df[num_cols].mean(), inplace=True)"
   ]
  },
  {
   "cell_type": "code",
   "execution_count": 20,
   "id": "244d289a",
   "metadata": {},
   "outputs": [
    {
     "name": "stdout",
     "output_type": "stream",
     "text": [
      "<class 'pandas.core.frame.DataFrame'>\n",
      "RangeIndex: 9712 entries, 0 to 9711\n",
      "Data columns (total 8 columns):\n",
      " #   Column                             Non-Null Count  Dtype  \n",
      "---  ------                             --------------  -----  \n",
      " 0   Age                                9712 non-null   int64  \n",
      " 1   Gender                             9712 non-null   object \n",
      " 2   Avg_Daily_Screen_Time_hr           9712 non-null   float64\n",
      " 3   Primary_Device                     9712 non-null   object \n",
      " 4   Exceeded_Recommended_Limit         9712 non-null   bool   \n",
      " 5   Educational_to_Recreational_Ratio  9712 non-null   float64\n",
      " 6   Health_Impacts                     9712 non-null   object \n",
      " 7   Urban_or_Rural                     9712 non-null   object \n",
      "dtypes: bool(1), float64(2), int64(1), object(4)\n",
      "memory usage: 540.7+ KB\n"
     ]
    }
   ],
   "source": [
    "df.info()"
   ]
  },
  {
   "cell_type": "markdown",
   "id": "0452f568",
   "metadata": {},
   "source": [
    "# qiymatlarni Encoding qilish"
   ]
  },
  {
   "cell_type": "code",
   "execution_count": 23,
   "id": "f274eaf3",
   "metadata": {},
   "outputs": [],
   "source": [
    "from sklearn.preprocessing import LabelEncoder\n",
    "labelling = LabelEncoder()"
   ]
  },
  {
   "cell_type": "code",
   "execution_count": 21,
   "id": "fd9a914e",
   "metadata": {},
   "outputs": [
    {
     "data": {
      "text/plain": [
       "Age                                   11\n",
       "Gender                                 2\n",
       "Avg_Daily_Screen_Time_hr             899\n",
       "Primary_Device                         4\n",
       "Exceeded_Recommended_Limit             2\n",
       "Educational_to_Recreational_Ratio     31\n",
       "Health_Impacts                        15\n",
       "Urban_or_Rural                         2\n",
       "dtype: int64"
      ]
     },
     "execution_count": 21,
     "metadata": {},
     "output_type": "execute_result"
    }
   ],
   "source": [
    "df.nunique()"
   ]
  },
  {
   "cell_type": "code",
   "execution_count": 25,
   "id": "e2ee31c6",
   "metadata": {},
   "outputs": [],
   "source": [
    "for obj_cols in df.select_dtypes(include=['object']):\n",
    "    if df[obj_cols].nunique() <= 4:\n",
    "        df = pd.get_dummies(df, columns=[obj_cols], prefix='yangi', dtype=int)\n",
    "    else:\n",
    "        df[obj_cols] = labelling.fit_transform(df[obj_cols])"
   ]
  },
  {
   "cell_type": "markdown",
   "id": "6044defc",
   "metadata": {},
   "source": [
    "# True va False raqamlashtiramiz"
   ]
  },
  {
   "cell_type": "code",
   "execution_count": 31,
   "id": "6c359b06",
   "metadata": {},
   "outputs": [
    {
     "name": "stderr",
     "output_type": "stream",
     "text": [
      "C:\\Users\\bunyo\\AppData\\Local\\Temp\\ipykernel_13276\\489476657.py:1: FutureWarning: Downcasting behavior in `replace` is deprecated and will be removed in a future version. To retain the old behavior, explicitly call `result.infer_objects(copy=False)`. To opt-in to the future behavior, set `pd.set_option('future.no_silent_downcasting', True)`\n",
      "  df['Exceeded_Recommended_Limit'] = df['Exceeded_Recommended_Limit'].replace([True, False],[1,0])\n"
     ]
    }
   ],
   "source": [
    "df['Exceeded_Recommended_Limit'] = df['Exceeded_Recommended_Limit'].replace([True, False],[1,0])"
   ]
  },
  {
   "cell_type": "code",
   "execution_count": 33,
   "id": "d8bb8232",
   "metadata": {},
   "outputs": [
    {
     "data": {
      "text/html": [
       "<div>\n",
       "<style scoped>\n",
       "    .dataframe tbody tr th:only-of-type {\n",
       "        vertical-align: middle;\n",
       "    }\n",
       "\n",
       "    .dataframe tbody tr th {\n",
       "        vertical-align: top;\n",
       "    }\n",
       "\n",
       "    .dataframe thead th {\n",
       "        text-align: right;\n",
       "    }\n",
       "</style>\n",
       "<table border=\"1\" class=\"dataframe\">\n",
       "  <thead>\n",
       "    <tr style=\"text-align: right;\">\n",
       "      <th></th>\n",
       "      <th>Age</th>\n",
       "      <th>Avg_Daily_Screen_Time_hr</th>\n",
       "      <th>Exceeded_Recommended_Limit</th>\n",
       "      <th>Educational_to_Recreational_Ratio</th>\n",
       "      <th>Health_Impacts</th>\n",
       "      <th>yangi_Female</th>\n",
       "      <th>yangi_Male</th>\n",
       "      <th>yangi_Laptop</th>\n",
       "      <th>yangi_Smartphone</th>\n",
       "      <th>yangi_TV</th>\n",
       "      <th>yangi_Tablet</th>\n",
       "      <th>yangi_Rural</th>\n",
       "      <th>yangi_Urban</th>\n",
       "    </tr>\n",
       "  </thead>\n",
       "  <tbody>\n",
       "    <tr>\n",
       "      <th>0</th>\n",
       "      <td>14</td>\n",
       "      <td>3.99</td>\n",
       "      <td>1</td>\n",
       "      <td>0.42</td>\n",
       "      <td>10</td>\n",
       "      <td>0</td>\n",
       "      <td>1</td>\n",
       "      <td>0</td>\n",
       "      <td>1</td>\n",
       "      <td>0</td>\n",
       "      <td>0</td>\n",
       "      <td>0</td>\n",
       "      <td>1</td>\n",
       "    </tr>\n",
       "    <tr>\n",
       "      <th>1</th>\n",
       "      <td>11</td>\n",
       "      <td>4.61</td>\n",
       "      <td>1</td>\n",
       "      <td>0.30</td>\n",
       "      <td>7</td>\n",
       "      <td>1</td>\n",
       "      <td>0</td>\n",
       "      <td>1</td>\n",
       "      <td>0</td>\n",
       "      <td>0</td>\n",
       "      <td>0</td>\n",
       "      <td>0</td>\n",
       "      <td>1</td>\n",
       "    </tr>\n",
       "    <tr>\n",
       "      <th>2</th>\n",
       "      <td>18</td>\n",
       "      <td>3.73</td>\n",
       "      <td>1</td>\n",
       "      <td>0.32</td>\n",
       "      <td>7</td>\n",
       "      <td>1</td>\n",
       "      <td>0</td>\n",
       "      <td>0</td>\n",
       "      <td>0</td>\n",
       "      <td>1</td>\n",
       "      <td>0</td>\n",
       "      <td>0</td>\n",
       "      <td>1</td>\n",
       "    </tr>\n",
       "    <tr>\n",
       "      <th>3</th>\n",
       "      <td>15</td>\n",
       "      <td>1.21</td>\n",
       "      <td>0</td>\n",
       "      <td>0.39</td>\n",
       "      <td>7</td>\n",
       "      <td>1</td>\n",
       "      <td>0</td>\n",
       "      <td>1</td>\n",
       "      <td>0</td>\n",
       "      <td>0</td>\n",
       "      <td>0</td>\n",
       "      <td>0</td>\n",
       "      <td>1</td>\n",
       "    </tr>\n",
       "    <tr>\n",
       "      <th>4</th>\n",
       "      <td>12</td>\n",
       "      <td>5.89</td>\n",
       "      <td>1</td>\n",
       "      <td>0.49</td>\n",
       "      <td>8</td>\n",
       "      <td>1</td>\n",
       "      <td>0</td>\n",
       "      <td>0</td>\n",
       "      <td>1</td>\n",
       "      <td>0</td>\n",
       "      <td>0</td>\n",
       "      <td>0</td>\n",
       "      <td>1</td>\n",
       "    </tr>\n",
       "  </tbody>\n",
       "</table>\n",
       "</div>"
      ],
      "text/plain": [
       "   Age  Avg_Daily_Screen_Time_hr  Exceeded_Recommended_Limit  \\\n",
       "0   14                      3.99                           1   \n",
       "1   11                      4.61                           1   \n",
       "2   18                      3.73                           1   \n",
       "3   15                      1.21                           0   \n",
       "4   12                      5.89                           1   \n",
       "\n",
       "   Educational_to_Recreational_Ratio  Health_Impacts  yangi_Female  \\\n",
       "0                               0.42              10             0   \n",
       "1                               0.30               7             1   \n",
       "2                               0.32               7             1   \n",
       "3                               0.39               7             1   \n",
       "4                               0.49               8             1   \n",
       "\n",
       "   yangi_Male  yangi_Laptop  yangi_Smartphone  yangi_TV  yangi_Tablet  \\\n",
       "0           1             0                 1         0             0   \n",
       "1           0             1                 0         0             0   \n",
       "2           0             0                 0         1             0   \n",
       "3           0             1                 0         0             0   \n",
       "4           0             0                 1         0             0   \n",
       "\n",
       "   yangi_Rural  yangi_Urban  \n",
       "0            0            1  \n",
       "1            0            1  \n",
       "2            0            1  \n",
       "3            0            1  \n",
       "4            0            1  "
      ]
     },
     "execution_count": 33,
     "metadata": {},
     "output_type": "execute_result"
    }
   ],
   "source": [
    "df.head()"
   ]
  },
  {
   "cell_type": "markdown",
   "id": "3d2b43f3",
   "metadata": {},
   "source": [
    "# Qiymatlarni Scaling qilish"
   ]
  },
  {
   "cell_type": "code",
   "execution_count": null,
   "id": "4c662feb",
   "metadata": {},
   "outputs": [],
   "source": [
    "# kutubxonalarni chaqirish\n",
    "\n",
    "from sklearn.preprocessing import StandardScaler\n",
    "std_scaler = StandardScaler()"
   ]
  },
  {
   "cell_type": "code",
   "execution_count": null,
   "id": "8d228dfd",
   "metadata": {},
   "outputs": [],
   "source": [
    "df = std_scaler.fit_transform(df)"
   ]
  },
  {
   "cell_type": "code",
   "execution_count": null,
   "id": "a90f5275",
   "metadata": {},
   "outputs": [],
   "source": []
  },
  {
   "cell_type": "code",
   "execution_count": null,
   "id": "7b9fc3e5",
   "metadata": {},
   "outputs": [],
   "source": []
  },
  {
   "cell_type": "code",
   "execution_count": null,
   "id": "70c5b88b",
   "metadata": {},
   "outputs": [],
   "source": []
  }
 ],
 "metadata": {
  "kernelspec": {
   "display_name": "base",
   "language": "python",
   "name": "python3"
  },
  "language_info": {
   "codemirror_mode": {
    "name": "ipython",
    "version": 3
   },
   "file_extension": ".py",
   "mimetype": "text/x-python",
   "name": "python",
   "nbconvert_exporter": "python",
   "pygments_lexer": "ipython3",
   "version": "3.13.5"
  }
 },
 "nbformat": 4,
 "nbformat_minor": 5
}
