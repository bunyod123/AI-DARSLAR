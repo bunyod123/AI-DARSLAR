{
 "cells": [
  {
   "cell_type": "code",
   "execution_count": 1,
   "id": "850ff377",
   "metadata": {},
   "outputs": [],
   "source": [
    "import pandas as pd"
   ]
  },
  {
   "cell_type": "code",
   "execution_count": null,
   "id": "25e936ef",
   "metadata": {},
   "outputs": [],
   "source": [
    "df = pd.read_csv('ai_job_dataset.csv')"
   ]
  },
  {
   "cell_type": "code",
   "execution_count": 5,
   "id": "3fa13cbb",
   "metadata": {},
   "outputs": [
    {
     "name": "stdout",
     "output_type": "stream",
     "text": [
      "C:\\Users\\bunyo\\AppData\\Local\\Programs\\Microsoft VS Code\n"
     ]
    }
   ],
   "source": [
    "import os\n",
    "print(os.getcwd())  # Hozirgi ishchi katalog manzilini ko‘rsatadi\n",
    "               # Bu katalogdagi fayl va papkalarni sanab chiqadi\n",
    "\n"
   ]
  },
  {
   "cell_type": "code",
   "execution_count": null,
   "id": "9e573181",
   "metadata": {},
   "outputs": [],
   "source": [
    "df['cross'] = df['cross'].str.replace(r'[^/d]', regex = True).astype(float)\n",
    "df['cross'] = df['cross'].str.replace(r'[^/d]', regex = True).astype(float)\n",
    "df['cross'] = df['cross'].str.replace(r'[^/d]', regex = True).astype(float)\n",
    "df['cross'] = df['cross'].str.replace(r'[^/d]', regex = True).astype(float)"
   ]
  }
 ],
 "metadata": {
  "kernelspec": {
   "display_name": "base",
   "language": "python",
   "name": "python3"
  },
  "language_info": {
   "codemirror_mode": {
    "name": "ipython",
    "version": 3
   },
   "file_extension": ".py",
   "mimetype": "text/x-python",
   "name": "python",
   "nbconvert_exporter": "python",
   "pygments_lexer": "ipython3",
   "version": "3.13.5"
  }
 },
 "nbformat": 4,
 "nbformat_minor": 5
}
