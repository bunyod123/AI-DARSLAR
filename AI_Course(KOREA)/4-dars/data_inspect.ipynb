{
 "cells": [
  {
   "cell_type": "code",
   "execution_count": 1,
   "id": "6026c228",
   "metadata": {},
   "outputs": [],
   "source": [
    "import pandas as pd"
   ]
  },
  {
   "cell_type": "code",
   "execution_count": null,
   "id": "c6826e71",
   "metadata": {},
   "outputs": [],
   "source": [
    "df = pd.read_csv(\"imdb_top_1000.csv\")"
   ]
  },
  {
   "cell_type": "code",
   "execution_count": null,
   "id": "4bc0ca41",
   "metadata": {},
   "outputs": [],
   "source": [
    "df.isnull().sum()"
   ]
  },
  {
   "cell_type": "code",
   "execution_count": null,
   "id": "049334b3",
   "metadata": {},
   "outputs": [],
   "source": [
    "df.head()"
   ]
  },
  {
   "cell_type": "code",
   "execution_count": null,
   "id": "ef112ddc",
   "metadata": {},
   "outputs": [],
   "source": [
    "df.tail()"
   ]
  },
  {
   "cell_type": "code",
   "execution_count": null,
   "id": "aaac6130",
   "metadata": {},
   "outputs": [],
   "source": [
    "df.info()"
   ]
  },
  {
   "cell_type": "markdown",
   "id": "435ea1c3",
   "metadata": {},
   "source": [
    "  Mean"
   ]
  },
  {
   "cell_type": "code",
   "execution_count": null,
   "id": "b17eea0f",
   "metadata": {},
   "outputs": [],
   "source": [
    "df['execution_count'].fillna(df['execution_count'].mean(), inplace=True)"
   ]
  },
  {
   "cell_type": "markdown",
   "id": "43f98658",
   "metadata": {},
   "source": [
    " Mode "
   ]
  },
  {
   "cell_type": "code",
   "execution_count": null,
   "id": "7b012c06",
   "metadata": {},
   "outputs": [],
   "source": [
    "df['gross'].fillna(df['gross'].mode()[0], inplace=True)"
   ]
  },
  {
   "cell_type": "code",
   "execution_count": null,
   "id": "711124b2",
   "metadata": {},
   "outputs": [
    {
     "name": "stdout",
     "output_type": "stream",
     "text": [
      "   baholar\n",
      "0      1.0\n",
      "1      2.0\n",
      "2      3.0\n",
      "3      4.0\n",
      "4      5.0\n",
      "5      6.0\n",
      "6      7.0\n",
      "7      8.0\n",
      "8      9.0\n",
      "9      5.0\n"
     ]
    }
   ],
   "source": [
    "df['year'].fillna(df['year'].median(), inplace=True)"
   ]
  }
 ],
 "metadata": {
  "kernelspec": {
   "display_name": "base",
   "language": "python",
   "name": "python3"
  },
  "language_info": {
   "codemirror_mode": {
    "name": "ipython",
    "version": 3
   },
   "file_extension": ".py",
   "mimetype": "text/x-python",
   "name": "python",
   "nbconvert_exporter": "python",
   "pygments_lexer": "ipython3",
   "version": "3.13.5"
  }
 },
 "nbformat": 4,
 "nbformat_minor": 5
}
