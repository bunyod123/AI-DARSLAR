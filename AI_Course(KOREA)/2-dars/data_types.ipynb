{
 "cells": [
  {
   "cell_type": "markdown",
   "id": "11887df2",
   "metadata": {},
   "source": [
    "# Vazifa"
   ]
  },
  {
   "cell_type": "code",
   "execution_count": null,
   "id": "c72fd236",
   "metadata": {},
   "outputs": [],
   "source": [
    "#1  Istalgan 3 ta sonni yigindisini toping\n",
    "#2  Berilgan so'zni dastlabki 4 ta xarfini ekranga chiqaring\n",
    "#3  Berilgan so'zni oxirgi 3 ta xarfini ekranga chiqaring\n",
    "#4  Berilgan sozni 3 va 9 xarflari orasidagi xarflarini toping\n",
    "#5  Istalgan sonni istalgan darasini toping"
   ]
  },
  {
   "cell_type": "code",
   "execution_count": null,
   "id": "08096c85",
   "metadata": {},
   "outputs": [
    {
     "name": "stdout",
     "output_type": "stream",
     "text": [
      "18\n"
     ]
    }
   ],
   "source": [
    "# 1\n",
    "a = int(input('1-sonni kiriting: '))\n",
    "b = int(input('2-sonni kiriting: '))\n",
    "c = int(input('3-sonni kiriting: '))\n",
    "print(a+b+c)"
   ]
  },
  {
   "cell_type": "code",
   "execution_count": null,
   "id": "51a226c1",
   "metadata": {},
   "outputs": [
    {
     "name": "stdout",
     "output_type": "stream",
     "text": [
      "qetu\n"
     ]
    }
   ],
   "source": [
    "# 2\n",
    "word = input(\"So'z kiriting: \")\n",
    "print(word[:4])"
   ]
  },
  {
   "cell_type": "code",
   "execution_count": null,
   "id": "b8217508",
   "metadata": {},
   "outputs": [
    {
     "name": "stdout",
     "output_type": "stream",
     "text": [
      "yo\n"
     ]
    }
   ],
   "source": [
    "# 3\n",
    "word = input(\"So'z kiriting\")\n",
    "print(word[-3:])"
   ]
  },
  {
   "cell_type": "code",
   "execution_count": null,
   "id": "3de0ea36",
   "metadata": {},
   "outputs": [
    {
     "name": "stdout",
     "output_type": "stream",
     "text": [
      "rtyuio\n"
     ]
    }
   ],
   "source": [
    "# 4\n",
    "word = input(\"So'z kiriting: \")\n",
    "print(word[4:9])"
   ]
  },
  {
   "cell_type": "code",
   "execution_count": null,
   "id": "0daa25b0",
   "metadata": {},
   "outputs": [
    {
     "name": "stdout",
     "output_type": "stream",
     "text": [
      "125.0\n",
      "125\n"
     ]
    }
   ],
   "source": [
    "# 5\n",
    "import math\n",
    "a = int(input('son kiriting: '))\n",
    "b = int(input('darajasini kiriting: '))\n",
    "print(math.pow(a,b)) # float qiymat qaytaradi\n",
    "print(a**b) # int qiymat qaytaradi"
   ]
  }
 ],
 "metadata": {
  "kernelspec": {
   "display_name": ".venv",
   "language": "python",
   "name": "python3"
  },
  "language_info": {
   "codemirror_mode": {
    "name": "ipython",
    "version": 3
   },
   "file_extension": ".py",
   "mimetype": "text/x-python",
   "name": "python",
   "nbconvert_exporter": "python",
   "pygments_lexer": "ipython3",
   "version": "3.13.5"
  }
 },
 "nbformat": 4,
 "nbformat_minor": 5
}
