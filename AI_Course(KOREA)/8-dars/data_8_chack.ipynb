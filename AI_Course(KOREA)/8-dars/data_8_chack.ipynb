{
 "cells": [
  {
   "cell_type": "code",
   "execution_count": 15,
   "id": "d972dc03",
   "metadata": {},
   "outputs": [],
   "source": [
    "import pandas as pd\n",
    "from sklearn.preprocessing import LabelEncoder\n",
    "encoding_qilish = LabelEncoder()"
   ]
  },
  {
   "cell_type": "code",
   "execution_count": 3,
   "id": "db620deb",
   "metadata": {},
   "outputs": [],
   "source": [
    "df = pd.read_csv(r\"C:\\Users\\bunyo\\OneDrive\\Desktop\\git_dataset\\train.csv\")"
   ]
  },
  {
   "cell_type": "code",
   "execution_count": 5,
   "id": "9a379d26",
   "metadata": {},
   "outputs": [
    {
     "name": "stdout",
     "output_type": "stream",
     "text": [
      "<class 'pandas.core.frame.DataFrame'>\n",
      "RangeIndex: 1464 entries, 0 to 1463\n",
      "Data columns (total 81 columns):\n",
      " #   Column         Non-Null Count  Dtype  \n",
      "---  ------         --------------  -----  \n",
      " 0   Id             1464 non-null   int64  \n",
      " 1   MSSubClass     1464 non-null   int64  \n",
      " 2   MSZoning       1464 non-null   object \n",
      " 3   LotFrontage    1205 non-null   float64\n",
      " 4   LotArea        1463 non-null   object \n",
      " 5   Street         1461 non-null   object \n",
      " 6   Alley          94 non-null     object \n",
      " 7   LotShape       1464 non-null   object \n",
      " 8   LandContour    1464 non-null   object \n",
      " 9   Utilities      1464 non-null   object \n",
      " 10  LotConfig      1464 non-null   object \n",
      " 11  LandSlope      1464 non-null   object \n",
      " 12  Neighborhood   1464 non-null   object \n",
      " 13  Condition1     1464 non-null   object \n",
      " 14  Condition2     1464 non-null   object \n",
      " 15  BldgType       1464 non-null   object \n",
      " 16  HouseStyle     1464 non-null   object \n",
      " 17  OverallQual    1464 non-null   int64  \n",
      " 18  OverallCond    1464 non-null   int64  \n",
      " 19  YearBuilt      1464 non-null   object \n",
      " 20  YearRemodAdd   1464 non-null   object \n",
      " 21  RoofStyle      1464 non-null   object \n",
      " 22  RoofMatl       1464 non-null   object \n",
      " 23  Exterior1st    1451 non-null   object \n",
      " 24  Exterior2nd    1436 non-null   object \n",
      " 25  MasVnrType     629 non-null    object \n",
      " 26  MasVnrArea     1456 non-null   object \n",
      " 27  ExterQual      1464 non-null   object \n",
      " 28  ExterCond      1464 non-null   object \n",
      " 29  Foundation     1464 non-null   object \n",
      " 30  BsmtQual       1427 non-null   object \n",
      " 31  BsmtCond       1427 non-null   object \n",
      " 32  BsmtExposure   1426 non-null   object \n",
      " 33  BsmtFinType1   1427 non-null   object \n",
      " 34  BsmtFinSF1     1463 non-null   object \n",
      " 35  BsmtFinType2   1427 non-null   object \n",
      " 36  BsmtFinSF2     1464 non-null   int64  \n",
      " 37  BsmtUnfSF      1464 non-null   object \n",
      " 38  TotalBsmtSF    1464 non-null   object \n",
      " 39  Heating        1464 non-null   object \n",
      " 40  HeatingQC      1464 non-null   object \n",
      " 41  CentralAir     1464 non-null   object \n",
      " 42  Electrical     1463 non-null   object \n",
      " 43  1stFlrSF       1464 non-null   int64  \n",
      " 44  2ndFlrSF       1464 non-null   int64  \n",
      " 45  LowQualFinSF   1464 non-null   int64  \n",
      " 46  GrLivArea      1464 non-null   int64  \n",
      " 47  BsmtFullBath   1464 non-null   int64  \n",
      " 48  BsmtHalfBath   1464 non-null   int64  \n",
      " 49  FullBath       1464 non-null   int64  \n",
      " 50  HalfBath       1464 non-null   int64  \n",
      " 51  BedroomAbvGr   1464 non-null   object \n",
      " 52  KitchenAbvGr   1464 non-null   object \n",
      " 53  KitchenQual    1464 non-null   object \n",
      " 54  TotRmsAbvGrd   1464 non-null   object \n",
      " 55  Functional     1446 non-null   object \n",
      " 56  Fireplaces     1444 non-null   object \n",
      " 57  FireplaceQu    810 non-null    object \n",
      " 58  GarageType     1383 non-null   object \n",
      " 59  GarageYrBlt    1383 non-null   object \n",
      " 60  GarageFinish   1385 non-null   object \n",
      " 61  GarageCars     1464 non-null   object \n",
      " 62  GarageArea     1462 non-null   object \n",
      " 63  GarageQual     1383 non-null   object \n",
      " 64  GarageCond     1385 non-null   object \n",
      " 65  PavedDrive     1464 non-null   object \n",
      " 66  WoodDeckSF     1464 non-null   int64  \n",
      " 67  OpenPorchSF    1464 non-null   int64  \n",
      " 68  EnclosedPorch  1464 non-null   int64  \n",
      " 69  3SsnPorch      1433 non-null   float64\n",
      " 70  ScreenPorch    1410 non-null   float64\n",
      " 71  PoolArea       1376 non-null   object \n",
      " 72  PoolQC         41 non-null     object \n",
      " 73  Fence          331 non-null    object \n",
      " 74  MiscFeature    143 non-null    object \n",
      " 75  MiscVal        1464 non-null   object \n",
      " 76  MoSold         1464 non-null   object \n",
      " 77  YrSold         1464 non-null   object \n",
      " 78  SaleType       1433 non-null   object \n",
      " 79  SaleCondition  1410 non-null   object \n",
      " 80  SalePrice      1375 non-null   float64\n",
      "dtypes: float64(4), int64(16), object(61)\n",
      "memory usage: 926.6+ KB\n"
     ]
    }
   ],
   "source": [
    "df.info()"
   ]
  },
  {
   "cell_type": "code",
   "execution_count": 8,
   "id": "c53e00d8",
   "metadata": {},
   "outputs": [
    {
     "data": {
      "text/plain": [
       "Id               1460\n",
       "MSSubClass         15\n",
       "MSZoning            5\n",
       "LotFrontage       110\n",
       "LotArea          1070\n",
       "                 ... \n",
       "MoSold             21\n",
       "YrSold             38\n",
       "SaleType           35\n",
       "SaleCondition      39\n",
       "SalePrice         630\n",
       "Length: 81, dtype: int64"
      ]
     },
     "execution_count": 8,
     "metadata": {},
     "output_type": "execute_result"
    }
   ],
   "source": [
    "df.nunique()"
   ]
  },
  {
   "cell_type": "code",
   "execution_count": 11,
   "id": "70d050d7",
   "metadata": {},
   "outputs": [
    {
     "data": {
      "text/plain": [
       "0       RL\n",
       "1       RL\n",
       "2       RL\n",
       "3       RL\n",
       "4       RL\n",
       "        ..\n",
       "1459    RL\n",
       "1460    RL\n",
       "1461    RL\n",
       "1462    RL\n",
       "1463    RL\n",
       "Name: MSZoning, Length: 1464, dtype: object"
      ]
     },
     "execution_count": 11,
     "metadata": {},
     "output_type": "execute_result"
    }
   ],
   "source": [
    "df['MSZoning']"
   ]
  },
  {
   "cell_type": "code",
   "execution_count": 13,
   "id": "7ca711ef",
   "metadata": {},
   "outputs": [],
   "source": [
    "df_encoded = pd.get_dummies(df['MSZoning'], prefix='belgi',dtype=int)"
   ]
  },
  {
   "cell_type": "code",
   "execution_count": 16,
   "id": "bf55802f",
   "metadata": {},
   "outputs": [],
   "source": [
    "df['MSSubClass'] = encoding_qilish.fit_transform(df['MSSubClass'])"
   ]
  },
  {
   "cell_type": "code",
   "execution_count": 20,
   "id": "4066c40c",
   "metadata": {},
   "outputs": [
    {
     "data": {
      "text/plain": [
       "pandas.core.series.Series"
      ]
     },
     "execution_count": 20,
     "metadata": {},
     "output_type": "execute_result"
    }
   ],
   "source": [
    "type(df['MSSubClass'])"
   ]
  },
  {
   "cell_type": "code",
   "execution_count": 21,
   "id": "0870c03e",
   "metadata": {},
   "outputs": [
    {
     "name": "stdout",
     "output_type": "stream",
     "text": [
      "<class 'pandas.core.frame.DataFrame'>\n",
      "RangeIndex: 1464 entries, 0 to 1463\n",
      "Data columns (total 81 columns):\n",
      " #   Column         Non-Null Count  Dtype  \n",
      "---  ------         --------------  -----  \n",
      " 0   Id             1464 non-null   int64  \n",
      " 1   MSSubClass     1464 non-null   int64  \n",
      " 2   MSZoning       1464 non-null   object \n",
      " 3   LotFrontage    1205 non-null   float64\n",
      " 4   LotArea        1463 non-null   object \n",
      " 5   Street         1461 non-null   object \n",
      " 6   Alley          94 non-null     object \n",
      " 7   LotShape       1464 non-null   object \n",
      " 8   LandContour    1464 non-null   object \n",
      " 9   Utilities      1464 non-null   object \n",
      " 10  LotConfig      1464 non-null   object \n",
      " 11  LandSlope      1464 non-null   object \n",
      " 12  Neighborhood   1464 non-null   object \n",
      " 13  Condition1     1464 non-null   object \n",
      " 14  Condition2     1464 non-null   object \n",
      " 15  BldgType       1464 non-null   object \n",
      " 16  HouseStyle     1464 non-null   object \n",
      " 17  OverallQual    1464 non-null   int64  \n",
      " 18  OverallCond    1464 non-null   int64  \n",
      " 19  YearBuilt      1464 non-null   object \n",
      " 20  YearRemodAdd   1464 non-null   object \n",
      " 21  RoofStyle      1464 non-null   object \n",
      " 22  RoofMatl       1464 non-null   object \n",
      " 23  Exterior1st    1451 non-null   object \n",
      " 24  Exterior2nd    1436 non-null   object \n",
      " 25  MasVnrType     629 non-null    object \n",
      " 26  MasVnrArea     1456 non-null   object \n",
      " 27  ExterQual      1464 non-null   object \n",
      " 28  ExterCond      1464 non-null   object \n",
      " 29  Foundation     1464 non-null   object \n",
      " 30  BsmtQual       1427 non-null   object \n",
      " 31  BsmtCond       1427 non-null   object \n",
      " 32  BsmtExposure   1426 non-null   object \n",
      " 33  BsmtFinType1   1427 non-null   object \n",
      " 34  BsmtFinSF1     1463 non-null   object \n",
      " 35  BsmtFinType2   1427 non-null   object \n",
      " 36  BsmtFinSF2     1464 non-null   int64  \n",
      " 37  BsmtUnfSF      1464 non-null   object \n",
      " 38  TotalBsmtSF    1464 non-null   object \n",
      " 39  Heating        1464 non-null   object \n",
      " 40  HeatingQC      1464 non-null   object \n",
      " 41  CentralAir     1464 non-null   object \n",
      " 42  Electrical     1463 non-null   object \n",
      " 43  1stFlrSF       1464 non-null   int64  \n",
      " 44  2ndFlrSF       1464 non-null   int64  \n",
      " 45  LowQualFinSF   1464 non-null   int64  \n",
      " 46  GrLivArea      1464 non-null   int64  \n",
      " 47  BsmtFullBath   1464 non-null   int64  \n",
      " 48  BsmtHalfBath   1464 non-null   int64  \n",
      " 49  FullBath       1464 non-null   int64  \n",
      " 50  HalfBath       1464 non-null   int64  \n",
      " 51  BedroomAbvGr   1464 non-null   object \n",
      " 52  KitchenAbvGr   1464 non-null   object \n",
      " 53  KitchenQual    1464 non-null   object \n",
      " 54  TotRmsAbvGrd   1464 non-null   object \n",
      " 55  Functional     1446 non-null   object \n",
      " 56  Fireplaces     1444 non-null   object \n",
      " 57  FireplaceQu    810 non-null    object \n",
      " 58  GarageType     1383 non-null   object \n",
      " 59  GarageYrBlt    1383 non-null   object \n",
      " 60  GarageFinish   1385 non-null   object \n",
      " 61  GarageCars     1464 non-null   object \n",
      " 62  GarageArea     1462 non-null   object \n",
      " 63  GarageQual     1383 non-null   object \n",
      " 64  GarageCond     1385 non-null   object \n",
      " 65  PavedDrive     1464 non-null   object \n",
      " 66  WoodDeckSF     1464 non-null   int64  \n",
      " 67  OpenPorchSF    1464 non-null   int64  \n",
      " 68  EnclosedPorch  1464 non-null   int64  \n",
      " 69  3SsnPorch      1433 non-null   float64\n",
      " 70  ScreenPorch    1410 non-null   float64\n",
      " 71  PoolArea       1376 non-null   object \n",
      " 72  PoolQC         41 non-null     object \n",
      " 73  Fence          331 non-null    object \n",
      " 74  MiscFeature    143 non-null    object \n",
      " 75  MiscVal        1464 non-null   object \n",
      " 76  MoSold         1464 non-null   object \n",
      " 77  YrSold         1464 non-null   object \n",
      " 78  SaleType       1433 non-null   object \n",
      " 79  SaleCondition  1410 non-null   object \n",
      " 80  SalePrice      1375 non-null   float64\n",
      "dtypes: float64(4), int64(16), object(61)\n",
      "memory usage: 926.6+ KB\n"
     ]
    }
   ],
   "source": [
    "df.info()"
   ]
  },
  {
   "cell_type": "code",
   "execution_count": 24,
   "id": "03374a3c",
   "metadata": {},
   "outputs": [],
   "source": [
    "df = pd.get_dummies(df, columns=['MSZoning'], prefix='beli', dtype=int)"
   ]
  },
  {
   "cell_type": "code",
   "execution_count": 25,
   "id": "11503b11",
   "metadata": {},
   "outputs": [
    {
     "name": "stdout",
     "output_type": "stream",
     "text": [
      "<class 'pandas.core.frame.DataFrame'>\n",
      "RangeIndex: 1464 entries, 0 to 1463\n",
      "Data columns (total 85 columns):\n",
      " #   Column         Non-Null Count  Dtype  \n",
      "---  ------         --------------  -----  \n",
      " 0   Id             1464 non-null   int64  \n",
      " 1   MSSubClass     1464 non-null   int64  \n",
      " 2   LotFrontage    1205 non-null   float64\n",
      " 3   LotArea        1463 non-null   object \n",
      " 4   Street         1461 non-null   object \n",
      " 5   Alley          94 non-null     object \n",
      " 6   LotShape       1464 non-null   object \n",
      " 7   LandContour    1464 non-null   object \n",
      " 8   Utilities      1464 non-null   object \n",
      " 9   LotConfig      1464 non-null   object \n",
      " 10  LandSlope      1464 non-null   object \n",
      " 11  Neighborhood   1464 non-null   object \n",
      " 12  Condition1     1464 non-null   object \n",
      " 13  Condition2     1464 non-null   object \n",
      " 14  BldgType       1464 non-null   object \n",
      " 15  HouseStyle     1464 non-null   object \n",
      " 16  OverallQual    1464 non-null   int64  \n",
      " 17  OverallCond    1464 non-null   int64  \n",
      " 18  YearBuilt      1464 non-null   object \n",
      " 19  YearRemodAdd   1464 non-null   object \n",
      " 20  RoofStyle      1464 non-null   object \n",
      " 21  RoofMatl       1464 non-null   object \n",
      " 22  Exterior1st    1451 non-null   object \n",
      " 23  Exterior2nd    1436 non-null   object \n",
      " 24  MasVnrType     629 non-null    object \n",
      " 25  MasVnrArea     1456 non-null   object \n",
      " 26  ExterQual      1464 non-null   object \n",
      " 27  ExterCond      1464 non-null   object \n",
      " 28  Foundation     1464 non-null   object \n",
      " 29  BsmtQual       1427 non-null   object \n",
      " 30  BsmtCond       1427 non-null   object \n",
      " 31  BsmtExposure   1426 non-null   object \n",
      " 32  BsmtFinType1   1427 non-null   object \n",
      " 33  BsmtFinSF1     1463 non-null   object \n",
      " 34  BsmtFinType2   1427 non-null   object \n",
      " 35  BsmtFinSF2     1464 non-null   int64  \n",
      " 36  BsmtUnfSF      1464 non-null   object \n",
      " 37  TotalBsmtSF    1464 non-null   object \n",
      " 38  Heating        1464 non-null   object \n",
      " 39  HeatingQC      1464 non-null   object \n",
      " 40  CentralAir     1464 non-null   object \n",
      " 41  Electrical     1463 non-null   object \n",
      " 42  1stFlrSF       1464 non-null   int64  \n",
      " 43  2ndFlrSF       1464 non-null   int64  \n",
      " 44  LowQualFinSF   1464 non-null   int64  \n",
      " 45  GrLivArea      1464 non-null   int64  \n",
      " 46  BsmtFullBath   1464 non-null   int64  \n",
      " 47  BsmtHalfBath   1464 non-null   int64  \n",
      " 48  FullBath       1464 non-null   int64  \n",
      " 49  HalfBath       1464 non-null   int64  \n",
      " 50  BedroomAbvGr   1464 non-null   object \n",
      " 51  KitchenAbvGr   1464 non-null   object \n",
      " 52  KitchenQual    1464 non-null   object \n",
      " 53  TotRmsAbvGrd   1464 non-null   object \n",
      " 54  Functional     1446 non-null   object \n",
      " 55  Fireplaces     1444 non-null   object \n",
      " 56  FireplaceQu    810 non-null    object \n",
      " 57  GarageType     1383 non-null   object \n",
      " 58  GarageYrBlt    1383 non-null   object \n",
      " 59  GarageFinish   1385 non-null   object \n",
      " 60  GarageCars     1464 non-null   object \n",
      " 61  GarageArea     1462 non-null   object \n",
      " 62  GarageQual     1383 non-null   object \n",
      " 63  GarageCond     1385 non-null   object \n",
      " 64  PavedDrive     1464 non-null   object \n",
      " 65  WoodDeckSF     1464 non-null   int64  \n",
      " 66  OpenPorchSF    1464 non-null   int64  \n",
      " 67  EnclosedPorch  1464 non-null   int64  \n",
      " 68  3SsnPorch      1433 non-null   float64\n",
      " 69  ScreenPorch    1410 non-null   float64\n",
      " 70  PoolArea       1376 non-null   object \n",
      " 71  PoolQC         41 non-null     object \n",
      " 72  Fence          331 non-null    object \n",
      " 73  MiscFeature    143 non-null    object \n",
      " 74  MiscVal        1464 non-null   object \n",
      " 75  MoSold         1464 non-null   object \n",
      " 76  YrSold         1464 non-null   object \n",
      " 77  SaleType       1433 non-null   object \n",
      " 78  SaleCondition  1410 non-null   object \n",
      " 79  SalePrice      1375 non-null   float64\n",
      " 80  beli_C (all)   1464 non-null   int64  \n",
      " 81  beli_FV        1464 non-null   int64  \n",
      " 82  beli_RH        1464 non-null   int64  \n",
      " 83  beli_RL        1464 non-null   int64  \n",
      " 84  beli_RM        1464 non-null   int64  \n",
      "dtypes: float64(4), int64(21), object(60)\n",
      "memory usage: 972.3+ KB\n"
     ]
    }
   ],
   "source": [
    "df.info()"
   ]
  }
 ],
 "metadata": {
  "kernelspec": {
   "display_name": "base",
   "language": "python",
   "name": "python3"
  },
  "language_info": {
   "codemirror_mode": {
    "name": "ipython",
    "version": 3
   },
   "file_extension": ".py",
   "mimetype": "text/x-python",
   "name": "python",
   "nbconvert_exporter": "python",
   "pygments_lexer": "ipython3",
   "version": "3.13.5"
  }
 },
 "nbformat": 4,
 "nbformat_minor": 5
}
