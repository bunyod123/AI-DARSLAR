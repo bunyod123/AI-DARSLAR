{
 "cells": [
  {
   "cell_type": "code",
   "execution_count": 1,
   "id": "d972dc03",
   "metadata": {},
   "outputs": [],
   "source": [
    "import pandas as pd"
   ]
  },
  {
   "cell_type": "code",
   "execution_count": 3,
   "id": "db620deb",
   "metadata": {},
   "outputs": [],
   "source": [
    "df = pd.read_csv(r\"C:\\Users\\bunyo\\OneDrive\\Desktop\\git_dataset\\train.csv\")"
   ]
  },
  {
   "cell_type": "code",
   "execution_count": 5,
   "id": "9a379d26",
   "metadata": {},
   "outputs": [
    {
     "name": "stdout",
     "output_type": "stream",
     "text": [
      "<class 'pandas.core.frame.DataFrame'>\n",
      "RangeIndex: 1464 entries, 0 to 1463\n",
      "Data columns (total 81 columns):\n",
      " #   Column         Non-Null Count  Dtype  \n",
      "---  ------         --------------  -----  \n",
      " 0   Id             1464 non-null   int64  \n",
      " 1   MSSubClass     1464 non-null   int64  \n",
      " 2   MSZoning       1464 non-null   object \n",
      " 3   LotFrontage    1205 non-null   float64\n",
      " 4   LotArea        1463 non-null   object \n",
      " 5   Street         1461 non-null   object \n",
      " 6   Alley          94 non-null     object \n",
      " 7   LotShape       1464 non-null   object \n",
      " 8   LandContour    1464 non-null   object \n",
      " 9   Utilities      1464 non-null   object \n",
      " 10  LotConfig      1464 non-null   object \n",
      " 11  LandSlope      1464 non-null   object \n",
      " 12  Neighborhood   1464 non-null   object \n",
      " 13  Condition1     1464 non-null   object \n",
      " 14  Condition2     1464 non-null   object \n",
      " 15  BldgType       1464 non-null   object \n",
      " 16  HouseStyle     1464 non-null   object \n",
      " 17  OverallQual    1464 non-null   int64  \n",
      " 18  OverallCond    1464 non-null   int64  \n",
      " 19  YearBuilt      1464 non-null   object \n",
      " 20  YearRemodAdd   1464 non-null   object \n",
      " 21  RoofStyle      1464 non-null   object \n",
      " 22  RoofMatl       1464 non-null   object \n",
      " 23  Exterior1st    1451 non-null   object \n",
      " 24  Exterior2nd    1436 non-null   object \n",
      " 25  MasVnrType     629 non-null    object \n",
      " 26  MasVnrArea     1456 non-null   object \n",
      " 27  ExterQual      1464 non-null   object \n",
      " 28  ExterCond      1464 non-null   object \n",
      " 29  Foundation     1464 non-null   object \n",
      " 30  BsmtQual       1427 non-null   object \n",
      " 31  BsmtCond       1427 non-null   object \n",
      " 32  BsmtExposure   1426 non-null   object \n",
      " 33  BsmtFinType1   1427 non-null   object \n",
      " 34  BsmtFinSF1     1463 non-null   object \n",
      " 35  BsmtFinType2   1427 non-null   object \n",
      " 36  BsmtFinSF2     1464 non-null   int64  \n",
      " 37  BsmtUnfSF      1464 non-null   object \n",
      " 38  TotalBsmtSF    1464 non-null   object \n",
      " 39  Heating        1464 non-null   object \n",
      " 40  HeatingQC      1464 non-null   object \n",
      " 41  CentralAir     1464 non-null   object \n",
      " 42  Electrical     1463 non-null   object \n",
      " 43  1stFlrSF       1464 non-null   int64  \n",
      " 44  2ndFlrSF       1464 non-null   int64  \n",
      " 45  LowQualFinSF   1464 non-null   int64  \n",
      " 46  GrLivArea      1464 non-null   int64  \n",
      " 47  BsmtFullBath   1464 non-null   int64  \n",
      " 48  BsmtHalfBath   1464 non-null   int64  \n",
      " 49  FullBath       1464 non-null   int64  \n",
      " 50  HalfBath       1464 non-null   int64  \n",
      " 51  BedroomAbvGr   1464 non-null   object \n",
      " 52  KitchenAbvGr   1464 non-null   object \n",
      " 53  KitchenQual    1464 non-null   object \n",
      " 54  TotRmsAbvGrd   1464 non-null   object \n",
      " 55  Functional     1446 non-null   object \n",
      " 56  Fireplaces     1444 non-null   object \n",
      " 57  FireplaceQu    810 non-null    object \n",
      " 58  GarageType     1383 non-null   object \n",
      " 59  GarageYrBlt    1383 non-null   object \n",
      " 60  GarageFinish   1385 non-null   object \n",
      " 61  GarageCars     1464 non-null   object \n",
      " 62  GarageArea     1462 non-null   object \n",
      " 63  GarageQual     1383 non-null   object \n",
      " 64  GarageCond     1385 non-null   object \n",
      " 65  PavedDrive     1464 non-null   object \n",
      " 66  WoodDeckSF     1464 non-null   int64  \n",
      " 67  OpenPorchSF    1464 non-null   int64  \n",
      " 68  EnclosedPorch  1464 non-null   int64  \n",
      " 69  3SsnPorch      1433 non-null   float64\n",
      " 70  ScreenPorch    1410 non-null   float64\n",
      " 71  PoolArea       1376 non-null   object \n",
      " 72  PoolQC         41 non-null     object \n",
      " 73  Fence          331 non-null    object \n",
      " 74  MiscFeature    143 non-null    object \n",
      " 75  MiscVal        1464 non-null   object \n",
      " 76  MoSold         1464 non-null   object \n",
      " 77  YrSold         1464 non-null   object \n",
      " 78  SaleType       1433 non-null   object \n",
      " 79  SaleCondition  1410 non-null   object \n",
      " 80  SalePrice      1375 non-null   float64\n",
      "dtypes: float64(4), int64(16), object(61)\n",
      "memory usage: 926.6+ KB\n"
     ]
    }
   ],
   "source": [
    "df.info()"
   ]
  },
  {
   "cell_type": "code",
   "execution_count": null,
   "id": "c53e00d8",
   "metadata": {},
   "outputs": [],
   "source": []
  },
  {
   "cell_type": "code",
   "execution_count": null,
   "id": "70d050d7",
   "metadata": {},
   "outputs": [],
   "source": []
  }
 ],
 "metadata": {
  "kernelspec": {
   "display_name": "base",
   "language": "python",
   "name": "python3"
  },
  "language_info": {
   "codemirror_mode": {
    "name": "ipython",
    "version": 3
   },
   "file_extension": ".py",
   "mimetype": "text/x-python",
   "name": "python",
   "nbconvert_exporter": "python",
   "pygments_lexer": "ipython3",
   "version": "3.13.5"
  }
 },
 "nbformat": 4,
 "nbformat_minor": 5
}
