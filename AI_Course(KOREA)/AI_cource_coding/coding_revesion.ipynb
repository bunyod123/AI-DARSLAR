{
 "cells": [
  {
   "cell_type": "markdown",
   "id": "cc116a22",
   "metadata": {},
   "source": [
    "# 7-dars"
   ]
  },
  {
   "cell_type": "code",
   "execution_count": null,
   "id": "6f2324cc",
   "metadata": {},
   "outputs": [],
   "source": [
    "# df duplicatedni ustun qilib chiqarish\n",
    "# df ni duplicated ni tashab yuborilgan ustun xolatda chiqarish xolatda chiqarish\n",
    "# df da raqam va nuqtadan boshqa hammasini tashab yuborish"
   ]
  },
  {
   "cell_type": "code",
   "execution_count": 36,
   "id": "67b4c9c7",
   "metadata": {},
   "outputs": [],
   "source": [
    "import pandas as pd\n",
    "from sklearn.preprocessing import LabelEncoder\n",
    "df = pd.read_csv(r\"C:\\Users\\bunyo\\OneDrive\\Desktop\\git_dataset\\medical_insurance.csv\")"
   ]
  },
  {
   "cell_type": "code",
   "execution_count": 10,
   "id": "3e2cbf6b",
   "metadata": {},
   "outputs": [
    {
     "data": {
      "text/html": [
       "<div>\n",
       "<style scoped>\n",
       "    .dataframe tbody tr th:only-of-type {\n",
       "        vertical-align: middle;\n",
       "    }\n",
       "\n",
       "    .dataframe tbody tr th {\n",
       "        vertical-align: top;\n",
       "    }\n",
       "\n",
       "    .dataframe thead th {\n",
       "        text-align: right;\n",
       "    }\n",
       "</style>\n",
       "<table border=\"1\" class=\"dataframe\">\n",
       "  <thead>\n",
       "    <tr style=\"text-align: right;\">\n",
       "      <th></th>\n",
       "      <th>age</th>\n",
       "      <th>gender</th>\n",
       "      <th>bmi</th>\n",
       "      <th>children</th>\n",
       "      <th>discount_eligibility</th>\n",
       "      <th>region</th>\n",
       "      <th>expenses</th>\n",
       "      <th>premium</th>\n",
       "    </tr>\n",
       "  </thead>\n",
       "  <tbody>\n",
       "    <tr>\n",
       "      <th>0</th>\n",
       "      <td>19</td>\n",
       "      <td>female</td>\n",
       "      <td>27.9</td>\n",
       "      <td>0</td>\n",
       "      <td>yes</td>\n",
       "      <td>southwest</td>\n",
       "      <td>16884.92</td>\n",
       "      <td>168.8492</td>\n",
       "    </tr>\n",
       "    <tr>\n",
       "      <th>1</th>\n",
       "      <td>18</td>\n",
       "      <td>male</td>\n",
       "      <td>33.8</td>\n",
       "      <td>1</td>\n",
       "      <td>no</td>\n",
       "      <td>southeast</td>\n",
       "      <td>1725.55</td>\n",
       "      <td>17.2555</td>\n",
       "    </tr>\n",
       "    <tr>\n",
       "      <th>2</th>\n",
       "      <td>28</td>\n",
       "      <td>male</td>\n",
       "      <td>33.0</td>\n",
       "      <td>3</td>\n",
       "      <td>no</td>\n",
       "      <td>southeast</td>\n",
       "      <td>4449.46</td>\n",
       "      <td>44.4946</td>\n",
       "    </tr>\n",
       "    <tr>\n",
       "      <th>3</th>\n",
       "      <td>33</td>\n",
       "      <td>male</td>\n",
       "      <td>22.7</td>\n",
       "      <td>0</td>\n",
       "      <td>no</td>\n",
       "      <td>northwest</td>\n",
       "      <td>21984.47</td>\n",
       "      <td>439.6894</td>\n",
       "    </tr>\n",
       "    <tr>\n",
       "      <th>4</th>\n",
       "      <td>32</td>\n",
       "      <td>male</td>\n",
       "      <td>28.9</td>\n",
       "      <td>0</td>\n",
       "      <td>no</td>\n",
       "      <td>northwest</td>\n",
       "      <td>3866.86</td>\n",
       "      <td>77.3372</td>\n",
       "    </tr>\n",
       "  </tbody>\n",
       "</table>\n",
       "</div>"
      ],
      "text/plain": [
       "   age  gender   bmi  children discount_eligibility     region  expenses  \\\n",
       "0   19  female  27.9         0                  yes  southwest  16884.92   \n",
       "1   18    male  33.8         1                   no  southeast   1725.55   \n",
       "2   28    male  33.0         3                   no  southeast   4449.46   \n",
       "3   33    male  22.7         0                   no  northwest  21984.47   \n",
       "4   32    male  28.9         0                   no  northwest   3866.86   \n",
       "\n",
       "    premium  \n",
       "0  168.8492  \n",
       "1   17.2555  \n",
       "2   44.4946  \n",
       "3  439.6894  \n",
       "4   77.3372  "
      ]
     },
     "execution_count": 10,
     "metadata": {},
     "output_type": "execute_result"
    }
   ],
   "source": [
    "df.head()"
   ]
  },
  {
   "cell_type": "code",
   "execution_count": null,
   "id": "ad5fe779",
   "metadata": {},
   "outputs": [],
   "source": []
  },
  {
   "cell_type": "markdown",
   "id": "c2cdaef4",
   "metadata": {},
   "source": [
    "# 8-dars"
   ]
  },
  {
   "cell_type": "code",
   "execution_count": null,
   "id": "a336ddeb",
   "metadata": {},
   "outputs": [],
   "source": [
    "# df ni one hot encode qilish\n",
    "# label ecode qilish"
   ]
  },
  {
   "cell_type": "markdown",
   "id": "7d24db85",
   "metadata": {},
   "source": [
    "# 9-dars"
   ]
  },
  {
   "cell_type": "code",
   "execution_count": null,
   "id": "1f020385",
   "metadata": {},
   "outputs": [],
   "source": [
    "# frequency encode qilish\n",
    "# target encode qilish\n",
    "# ordinal encode qilish\n",
    "# df ni for + missing value bilan toldirish"
   ]
  },
  {
   "cell_type": "markdown",
   "id": "c0de95ce",
   "metadata": {},
   "source": [
    "# 10-dars"
   ]
  },
  {
   "cell_type": "code",
   "execution_count": null,
   "id": "4299dba5",
   "metadata": {},
   "outputs": [],
   "source": [
    "# min_max, robust, standart scaling qilish df ni\n",
    "# df ni for loop + encoding qilish\n",
    "labeling = LabelEncoder()\n",
    "for cols in df.select_dtypes(include=['object']):\n",
    "        if df[cols].nunique() <= 3:\n",
    "            df = pd.get_dummies(df, columns=[cols], prefix='yangi',dtype=int)\n",
    "            # dummies = pd.get_dummies(df[cols], prefix='yangi',dtype=int)\n",
    "            # df = pd.concat(df.drop([columns=[cols]), dummies], axis=1)\n",
    "        else:\n",
    "            df[cols] = labeling.fit_transform(df[cols])\n",
    "df"
   ]
  },
  {
   "cell_type": "markdown",
   "id": "c87ea7e2",
   "metadata": {},
   "source": [
    "# 11-dars"
   ]
  },
  {
   "cell_type": "code",
   "execution_count": null,
   "id": "bc7a0f6a",
   "metadata": {},
   "outputs": [],
   "source": [
    "# train test split chaqirish\n",
    "# data fit qilish\n",
    "# uni baholash\n",
    "\n",
    "from sklearn.model_selection import train_test_split"
   ]
  },
  {
   "cell_type": "code",
   "execution_count": null,
   "id": "abab7219",
   "metadata": {},
   "outputs": [],
   "source": []
  },
  {
   "cell_type": "code",
   "execution_count": null,
   "id": "79dc5c08",
   "metadata": {},
   "outputs": [],
   "source": []
  },
  {
   "cell_type": "code",
   "execution_count": null,
   "id": "2ae16bef",
   "metadata": {},
   "outputs": [],
   "source": []
  },
  {
   "cell_type": "code",
   "execution_count": null,
   "id": "94d43770",
   "metadata": {},
   "outputs": [],
   "source": []
  },
  {
   "cell_type": "code",
   "execution_count": null,
   "id": "6abac25f",
   "metadata": {},
   "outputs": [],
   "source": []
  },
  {
   "cell_type": "code",
   "execution_count": null,
   "id": "5484a347",
   "metadata": {},
   "outputs": [],
   "source": []
  },
  {
   "cell_type": "code",
   "execution_count": null,
   "id": "dd3b81a9",
   "metadata": {},
   "outputs": [],
   "source": []
  },
  {
   "cell_type": "code",
   "execution_count": null,
   "id": "78831b8b",
   "metadata": {},
   "outputs": [],
   "source": []
  },
  {
   "cell_type": "code",
   "execution_count": null,
   "id": "b27e219d",
   "metadata": {},
   "outputs": [],
   "source": []
  },
  {
   "cell_type": "code",
   "execution_count": null,
   "id": "66a4989a",
   "metadata": {},
   "outputs": [],
   "source": []
  },
  {
   "cell_type": "code",
   "execution_count": null,
   "id": "917fbff3",
   "metadata": {},
   "outputs": [],
   "source": []
  },
  {
   "cell_type": "code",
   "execution_count": null,
   "id": "46805add",
   "metadata": {},
   "outputs": [],
   "source": []
  },
  {
   "cell_type": "code",
   "execution_count": null,
   "id": "52412606",
   "metadata": {},
   "outputs": [],
   "source": []
  },
  {
   "cell_type": "code",
   "execution_count": null,
   "id": "362286df",
   "metadata": {},
   "outputs": [],
   "source": []
  },
  {
   "cell_type": "code",
   "execution_count": null,
   "id": "1cd62e41",
   "metadata": {},
   "outputs": [],
   "source": []
  },
  {
   "cell_type": "code",
   "execution_count": null,
   "id": "90029fc1",
   "metadata": {},
   "outputs": [],
   "source": []
  },
  {
   "cell_type": "code",
   "execution_count": null,
   "id": "acb35a55",
   "metadata": {},
   "outputs": [],
   "source": []
  },
  {
   "cell_type": "code",
   "execution_count": null,
   "id": "b87ed2c5",
   "metadata": {},
   "outputs": [],
   "source": []
  }
 ],
 "metadata": {
  "kernelspec": {
   "display_name": "base",
   "language": "python",
   "name": "python3"
  },
  "language_info": {
   "codemirror_mode": {
    "name": "ipython",
    "version": 3
   },
   "file_extension": ".py",
   "mimetype": "text/x-python",
   "name": "python",
   "nbconvert_exporter": "python",
   "pygments_lexer": "ipython3",
   "version": "3.13.5"
  }
 },
 "nbformat": 4,
 "nbformat_minor": 5
}
