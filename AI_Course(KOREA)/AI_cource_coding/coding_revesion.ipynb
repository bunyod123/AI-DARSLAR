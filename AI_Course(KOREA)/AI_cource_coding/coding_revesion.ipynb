{
 "cells": [
  {
   "cell_type": "markdown",
   "id": "cc116a22",
   "metadata": {},
   "source": [
    "# 7-dars"
   ]
  },
  {
   "cell_type": "code",
   "execution_count": null,
   "id": "6f2324cc",
   "metadata": {},
   "outputs": [],
   "source": [
    "# df duplicatedni ustun qilib chiqarish\n",
    "# df ni duplicated ni tashab yuborilgan ustun xolatda chiqarish xolatda chiqarish\n",
    "# df da raqam va nuqtadan boshqa hammasini tashab yuborish"
   ]
  },
  {
   "cell_type": "markdown",
   "id": "c2cdaef4",
   "metadata": {},
   "source": [
    "# 8-dars"
   ]
  },
  {
   "cell_type": "code",
   "execution_count": null,
   "id": "a336ddeb",
   "metadata": {},
   "outputs": [],
   "source": [
    "# df ni one hot encode qilish\n",
    "# label ecode qilish"
   ]
  },
  {
   "cell_type": "markdown",
   "id": "7d24db85",
   "metadata": {},
   "source": [
    "# 9-dars"
   ]
  },
  {
   "cell_type": "code",
   "execution_count": null,
   "id": "1f020385",
   "metadata": {},
   "outputs": [],
   "source": [
    "# frequency encode qilish\n",
    "# target encode qilish\n",
    "# ordinal encode qilish\n",
    "# df ni for + missing value bilan toldirish"
   ]
  },
  {
   "cell_type": "markdown",
   "id": "c0de95ce",
   "metadata": {},
   "source": [
    "# 10-dars"
   ]
  },
  {
   "cell_type": "code",
   "execution_count": null,
   "id": "4299dba5",
   "metadata": {},
   "outputs": [],
   "source": [
    "# min_max, robust, standart scaling qilish df ni\n",
    "# df ni for loop + encoding qilish"
   ]
  },
  {
   "cell_type": "code",
   "execution_count": null,
   "id": "bc7a0f6a",
   "metadata": {},
   "outputs": [],
   "source": []
  },
  {
   "cell_type": "code",
   "execution_count": null,
   "id": "abab7219",
   "metadata": {},
   "outputs": [],
   "source": []
  },
  {
   "cell_type": "code",
   "execution_count": null,
   "id": "79dc5c08",
   "metadata": {},
   "outputs": [],
   "source": []
  },
  {
   "cell_type": "code",
   "execution_count": null,
   "id": "2ae16bef",
   "metadata": {},
   "outputs": [],
   "source": []
  },
  {
   "cell_type": "code",
   "execution_count": null,
   "id": "94d43770",
   "metadata": {},
   "outputs": [],
   "source": []
  },
  {
   "cell_type": "code",
   "execution_count": null,
   "id": "6abac25f",
   "metadata": {},
   "outputs": [],
   "source": []
  },
  {
   "cell_type": "code",
   "execution_count": null,
   "id": "5484a347",
   "metadata": {},
   "outputs": [],
   "source": []
  },
  {
   "cell_type": "code",
   "execution_count": null,
   "id": "dd3b81a9",
   "metadata": {},
   "outputs": [],
   "source": []
  },
  {
   "cell_type": "code",
   "execution_count": null,
   "id": "78831b8b",
   "metadata": {},
   "outputs": [],
   "source": []
  },
  {
   "cell_type": "code",
   "execution_count": null,
   "id": "b27e219d",
   "metadata": {},
   "outputs": [],
   "source": []
  },
  {
   "cell_type": "code",
   "execution_count": null,
   "id": "66a4989a",
   "metadata": {},
   "outputs": [],
   "source": []
  },
  {
   "cell_type": "code",
   "execution_count": null,
   "id": "917fbff3",
   "metadata": {},
   "outputs": [],
   "source": []
  },
  {
   "cell_type": "code",
   "execution_count": null,
   "id": "46805add",
   "metadata": {},
   "outputs": [],
   "source": []
  },
  {
   "cell_type": "code",
   "execution_count": null,
   "id": "52412606",
   "metadata": {},
   "outputs": [],
   "source": []
  },
  {
   "cell_type": "code",
   "execution_count": null,
   "id": "362286df",
   "metadata": {},
   "outputs": [],
   "source": []
  },
  {
   "cell_type": "code",
   "execution_count": null,
   "id": "1cd62e41",
   "metadata": {},
   "outputs": [],
   "source": []
  },
  {
   "cell_type": "code",
   "execution_count": null,
   "id": "90029fc1",
   "metadata": {},
   "outputs": [],
   "source": []
  },
  {
   "cell_type": "code",
   "execution_count": null,
   "id": "acb35a55",
   "metadata": {},
   "outputs": [],
   "source": []
  },
  {
   "cell_type": "code",
   "execution_count": null,
   "id": "b87ed2c5",
   "metadata": {},
   "outputs": [],
   "source": []
  }
 ],
 "metadata": {
  "language_info": {
   "name": "python"
  }
 },
 "nbformat": 4,
 "nbformat_minor": 5
}
