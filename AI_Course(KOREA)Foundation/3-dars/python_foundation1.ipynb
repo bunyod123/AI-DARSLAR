{
 "cells": [
  {
   "cell_type": "code",
   "execution_count": null,
   "id": "6215f16b",
   "metadata": {},
   "outputs": [],
   "source": [
    "# for i in range(2,12):\n",
    "#     if i == 5:\n",
    "#         pass\n",
    "#     print(i,end=' * ')"
   ]
  },
  {
   "cell_type": "code",
   "execution_count": 3,
   "id": "6191e89a",
   "metadata": {},
   "outputs": [],
   "source": [
    "# list function\n",
    "# name = ['anvar','bunyod','ali','vali','olim','salim','dfhdifhd','232323','olim','3499','99','77','44']\n",
    "# name.insert(0,'12121212')\n",
    "# name.sort()\n",
    "# name.pop()\n",
    "# name.append('121211')\n",
    "# for i in name:\n",
    "#     print(i)"
   ]
  },
  {
   "cell_type": "code",
   "execution_count": null,
   "id": "98649eac",
   "metadata": {},
   "outputs": [],
   "source": [
    "# list\n",
    "\n",
    "# name = ['anvar','bunyod','ali','vali','olim','salim']\n",
    "# firstName = ['dfhdifhd','232323','olim','3499','99','77','44']\n",
    "# cook = ['cake', 'tea','meal','fruit','water']\n",
    "# allinone = [name,firstName,cook]\n",
    "# print(allinone[2][4])"
   ]
  },
  {
   "cell_type": "code",
   "execution_count": null,
   "id": "bf8f54ab",
   "metadata": {},
   "outputs": [],
   "source": [
    "# tuple\n",
    "\n",
    "# student = ('joe', 21,'math','eng',21)\n",
    "# print(student.count(21),'<*>', student.index('math'))\n",
    "# print(student[1])\n",
    "# if 'joe' in student:\n",
    "#     print('joe is here')"
   ]
  },
  {
   "cell_type": "code",
   "execution_count": 30,
   "id": "53f5fe72",
   "metadata": {},
   "outputs": [
    {
     "name": "stdout",
     "output_type": "stream",
     "text": [
      "None\n",
      "True\n",
      "1212\n",
      "ali\n",
      "omon\n",
      "12\n"
     ]
    }
   ],
   "source": [
    "# set\n",
    "guruh = {'ali',12,'omon',True,None,'1212',12}\n",
    "guruh1 = {'ali',12,'omon',True,None,'1212',12}\n",
    "guruh.clear()\n",
    "guruh.update(guruh1)\n",
    "for i in guruh:\n",
    "    print(i)"
   ]
  },
  {
   "cell_type": "code",
   "execution_count": null,
   "id": "f847e734",
   "metadata": {},
   "outputs": [],
   "source": []
  },
  {
   "cell_type": "code",
   "execution_count": null,
   "id": "e24096e0",
   "metadata": {},
   "outputs": [],
   "source": []
  },
  {
   "cell_type": "code",
   "execution_count": null,
   "id": "e6f4d31a",
   "metadata": {},
   "outputs": [],
   "source": []
  }
 ],
 "metadata": {
  "kernelspec": {
   "display_name": ".venv",
   "language": "python",
   "name": "python3"
  },
  "language_info": {
   "codemirror_mode": {
    "name": "ipython",
    "version": 3
   },
   "file_extension": ".py",
   "mimetype": "text/x-python",
   "name": "python",
   "nbconvert_exporter": "python",
   "pygments_lexer": "ipython3",
   "version": "3.13.5"
  }
 },
 "nbformat": 4,
 "nbformat_minor": 5
}
